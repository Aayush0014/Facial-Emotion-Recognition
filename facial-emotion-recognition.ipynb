{
 "cells": [
  {
   "cell_type": "markdown",
   "id": "e2c78e0d",
   "metadata": {
    "_cell_guid": "b1076dfc-b9ad-4769-8c92-a6c4dae69d19",
    "_uuid": "8f2839f25d086af736a60e9eeb907d3b93b6e0e5",
    "papermill": {
     "duration": 0.013259,
     "end_time": "2023-01-29T20:23:13.187265",
     "exception": false,
     "start_time": "2023-01-29T20:23:13.174006",
     "status": "completed"
    },
    "tags": []
   },
   "source": [
    "## Importing Modules"
   ]
  },
  {
   "cell_type": "code",
   "execution_count": 1,
   "id": "c137cab1",
   "metadata": {
    "execution": {
     "iopub.execute_input": "2023-01-29T20:23:13.222300Z",
     "iopub.status.busy": "2023-01-29T20:23:13.221028Z",
     "iopub.status.idle": "2023-01-29T20:23:14.304504Z",
     "shell.execute_reply": "2023-01-29T20:23:14.303564Z"
    },
    "papermill": {
     "duration": 1.102518,
     "end_time": "2023-01-29T20:23:14.307094",
     "exception": false,
     "start_time": "2023-01-29T20:23:13.204576",
     "status": "completed"
    },
    "tags": []
   },
   "outputs": [],
   "source": [
    "import pandas as pd\n",
    "import numpy as np\n",
    "import os\n",
    "import matplotlib.pyplot as plt\n",
    "import seaborn\n",
    "import warnings\n",
    "from tqdm.notebook import tqdm\n",
    "warnings.filterwarnings('ignore')\n",
    "%matplotlib inline"
   ]
  },
  {
   "cell_type": "code",
   "execution_count": 2,
   "id": "4b2af94e",
   "metadata": {
    "execution": {
     "iopub.execute_input": "2023-01-29T20:23:14.329646Z",
     "iopub.status.busy": "2023-01-29T20:23:14.329161Z",
     "iopub.status.idle": "2023-01-29T20:23:18.919245Z",
     "shell.execute_reply": "2023-01-29T20:23:18.918337Z"
    },
    "papermill": {
     "duration": 4.603535,
     "end_time": "2023-01-29T20:23:18.921637",
     "exception": false,
     "start_time": "2023-01-29T20:23:14.318102",
     "status": "completed"
    },
    "tags": []
   },
   "outputs": [],
   "source": [
    "import tensorflow as tf\n",
    "from keras.models import Sequential\n",
    "from keras.layers import Dense, Conv2D, Dropout,Flatten, MaxPooling2D"
   ]
  },
  {
   "cell_type": "markdown",
   "id": "5ab25aae",
   "metadata": {
    "papermill": {
     "duration": 0.006748,
     "end_time": "2023-01-29T20:23:18.935694",
     "exception": false,
     "start_time": "2023-01-29T20:23:18.928946",
     "status": "completed"
    },
    "tags": []
   },
   "source": [
    "## Loadinf the dataset"
   ]
  },
  {
   "cell_type": "code",
   "execution_count": 3,
   "id": "0f586ecc",
   "metadata": {
    "execution": {
     "iopub.execute_input": "2023-01-29T20:23:18.952189Z",
     "iopub.status.busy": "2023-01-29T20:23:18.950419Z",
     "iopub.status.idle": "2023-01-29T20:23:18.956071Z",
     "shell.execute_reply": "2023-01-29T20:23:18.955236Z"
    },
    "papermill": {
     "duration": 0.015474,
     "end_time": "2023-01-29T20:23:18.958043",
     "exception": false,
     "start_time": "2023-01-29T20:23:18.942569",
     "status": "completed"
    },
    "tags": []
   },
   "outputs": [],
   "source": [
    "TRAIN_DIR = '/kaggle/input/facial-expression-dataset/train/train/'\n",
    "TEST_DIR = '/kaggle/input/facial-expression-dataset/test/test/'"
   ]
  },
  {
   "cell_type": "code",
   "execution_count": 4,
   "id": "8356eb36",
   "metadata": {
    "execution": {
     "iopub.execute_input": "2023-01-29T20:23:18.973027Z",
     "iopub.status.busy": "2023-01-29T20:23:18.972403Z",
     "iopub.status.idle": "2023-01-29T20:23:18.977666Z",
     "shell.execute_reply": "2023-01-29T20:23:18.976797Z"
    },
    "papermill": {
     "duration": 0.014844,
     "end_time": "2023-01-29T20:23:18.979608",
     "exception": false,
     "start_time": "2023-01-29T20:23:18.964764",
     "status": "completed"
    },
    "tags": []
   },
   "outputs": [],
   "source": [
    "def load_dataset(directory):\n",
    "    image_paths = []\n",
    "    labels = []\n",
    "    \n",
    "    for label in os.listdir(directory):\n",
    "        for filename in os.listdir(directory+label):\n",
    "            image_path = os.path.join(directory,label,filename)\n",
    "            image_paths.append(image_path)\n",
    "            labels.append(label)\n",
    "        print(label,'Completed')\n",
    "        \n",
    "    return image_paths,labels"
   ]
  },
  {
   "cell_type": "code",
   "execution_count": 5,
   "id": "e7cdfabb",
   "metadata": {
    "execution": {
     "iopub.execute_input": "2023-01-29T20:23:18.994615Z",
     "iopub.status.busy": "2023-01-29T20:23:18.993827Z",
     "iopub.status.idle": "2023-01-29T20:23:23.379359Z",
     "shell.execute_reply": "2023-01-29T20:23:23.377723Z"
    },
    "papermill": {
     "duration": 4.396707,
     "end_time": "2023-01-29T20:23:23.383051",
     "exception": false,
     "start_time": "2023-01-29T20:23:18.986344",
     "status": "completed"
    },
    "tags": []
   },
   "outputs": [
    {
     "name": "stdout",
     "output_type": "stream",
     "text": [
      "surprise Completed\n",
      "fear Completed\n",
      "angry Completed\n",
      "neutral Completed\n",
      "sad Completed\n",
      "disgust Completed\n",
      "happy Completed\n"
     ]
    },
    {
     "data": {
      "text/html": [
       "<div>\n",
       "<style scoped>\n",
       "    .dataframe tbody tr th:only-of-type {\n",
       "        vertical-align: middle;\n",
       "    }\n",
       "\n",
       "    .dataframe tbody tr th {\n",
       "        vertical-align: top;\n",
       "    }\n",
       "\n",
       "    .dataframe thead th {\n",
       "        text-align: right;\n",
       "    }\n",
       "</style>\n",
       "<table border=\"1\" class=\"dataframe\">\n",
       "  <thead>\n",
       "    <tr style=\"text-align: right;\">\n",
       "      <th></th>\n",
       "      <th>image</th>\n",
       "      <th>label</th>\n",
       "    </tr>\n",
       "  </thead>\n",
       "  <tbody>\n",
       "    <tr>\n",
       "      <th>0</th>\n",
       "      <td>/kaggle/input/facial-expression-dataset/train/...</td>\n",
       "      <td>sad</td>\n",
       "    </tr>\n",
       "    <tr>\n",
       "      <th>1</th>\n",
       "      <td>/kaggle/input/facial-expression-dataset/train/...</td>\n",
       "      <td>angry</td>\n",
       "    </tr>\n",
       "    <tr>\n",
       "      <th>2</th>\n",
       "      <td>/kaggle/input/facial-expression-dataset/train/...</td>\n",
       "      <td>happy</td>\n",
       "    </tr>\n",
       "    <tr>\n",
       "      <th>3</th>\n",
       "      <td>/kaggle/input/facial-expression-dataset/train/...</td>\n",
       "      <td>neutral</td>\n",
       "    </tr>\n",
       "    <tr>\n",
       "      <th>4</th>\n",
       "      <td>/kaggle/input/facial-expression-dataset/train/...</td>\n",
       "      <td>sad</td>\n",
       "    </tr>\n",
       "  </tbody>\n",
       "</table>\n",
       "</div>"
      ],
      "text/plain": [
       "                                               image    label\n",
       "0  /kaggle/input/facial-expression-dataset/train/...      sad\n",
       "1  /kaggle/input/facial-expression-dataset/train/...    angry\n",
       "2  /kaggle/input/facial-expression-dataset/train/...    happy\n",
       "3  /kaggle/input/facial-expression-dataset/train/...  neutral\n",
       "4  /kaggle/input/facial-expression-dataset/train/...      sad"
      ]
     },
     "execution_count": 5,
     "metadata": {},
     "output_type": "execute_result"
    }
   ],
   "source": [
    "# Converting into dataframe\n",
    "train = pd.DataFrame()\n",
    "train['image'],train['label'] = load_dataset(TRAIN_DIR)\n",
    "# Shuffle the dataset\n",
    "train = train.sample(frac=1).reset_index(drop=True)\n",
    "train.head()"
   ]
  },
  {
   "cell_type": "code",
   "execution_count": 6,
   "id": "62c8b8bd",
   "metadata": {
    "execution": {
     "iopub.execute_input": "2023-01-29T20:23:23.402160Z",
     "iopub.status.busy": "2023-01-29T20:23:23.400560Z",
     "iopub.status.idle": "2023-01-29T20:23:26.238409Z",
     "shell.execute_reply": "2023-01-29T20:23:26.236412Z"
    },
    "papermill": {
     "duration": 2.849931,
     "end_time": "2023-01-29T20:23:26.242082",
     "exception": false,
     "start_time": "2023-01-29T20:23:23.392151",
     "status": "completed"
    },
    "tags": []
   },
   "outputs": [
    {
     "name": "stdout",
     "output_type": "stream",
     "text": [
      "surprise Completed\n",
      "fear Completed\n",
      "angry Completed\n",
      "neutral Completed\n",
      "sad Completed\n",
      "disgust Completed\n",
      "happy Completed\n"
     ]
    },
    {
     "data": {
      "text/html": [
       "<div>\n",
       "<style scoped>\n",
       "    .dataframe tbody tr th:only-of-type {\n",
       "        vertical-align: middle;\n",
       "    }\n",
       "\n",
       "    .dataframe tbody tr th {\n",
       "        vertical-align: top;\n",
       "    }\n",
       "\n",
       "    .dataframe thead th {\n",
       "        text-align: right;\n",
       "    }\n",
       "</style>\n",
       "<table border=\"1\" class=\"dataframe\">\n",
       "  <thead>\n",
       "    <tr style=\"text-align: right;\">\n",
       "      <th></th>\n",
       "      <th>image</th>\n",
       "      <th>label</th>\n",
       "    </tr>\n",
       "  </thead>\n",
       "  <tbody>\n",
       "    <tr>\n",
       "      <th>0</th>\n",
       "      <td>/kaggle/input/facial-expression-dataset/test/t...</td>\n",
       "      <td>surprise</td>\n",
       "    </tr>\n",
       "    <tr>\n",
       "      <th>1</th>\n",
       "      <td>/kaggle/input/facial-expression-dataset/test/t...</td>\n",
       "      <td>surprise</td>\n",
       "    </tr>\n",
       "    <tr>\n",
       "      <th>2</th>\n",
       "      <td>/kaggle/input/facial-expression-dataset/test/t...</td>\n",
       "      <td>surprise</td>\n",
       "    </tr>\n",
       "    <tr>\n",
       "      <th>3</th>\n",
       "      <td>/kaggle/input/facial-expression-dataset/test/t...</td>\n",
       "      <td>surprise</td>\n",
       "    </tr>\n",
       "    <tr>\n",
       "      <th>4</th>\n",
       "      <td>/kaggle/input/facial-expression-dataset/test/t...</td>\n",
       "      <td>surprise</td>\n",
       "    </tr>\n",
       "  </tbody>\n",
       "</table>\n",
       "</div>"
      ],
      "text/plain": [
       "                                               image     label\n",
       "0  /kaggle/input/facial-expression-dataset/test/t...  surprise\n",
       "1  /kaggle/input/facial-expression-dataset/test/t...  surprise\n",
       "2  /kaggle/input/facial-expression-dataset/test/t...  surprise\n",
       "3  /kaggle/input/facial-expression-dataset/test/t...  surprise\n",
       "4  /kaggle/input/facial-expression-dataset/test/t...  surprise"
      ]
     },
     "execution_count": 6,
     "metadata": {},
     "output_type": "execute_result"
    }
   ],
   "source": [
    "test = pd.DataFrame()\n",
    "test['image'],test['label'] = load_dataset(TEST_DIR)\n",
    "test.head()"
   ]
  },
  {
   "cell_type": "markdown",
   "id": "fec98c05",
   "metadata": {
    "papermill": {
     "duration": 0.01512,
     "end_time": "2023-01-29T20:23:26.277137",
     "exception": false,
     "start_time": "2023-01-29T20:23:26.262017",
     "status": "completed"
    },
    "tags": []
   },
   "source": [
    "## Exploratory Data Analysis"
   ]
  },
  {
   "cell_type": "code",
   "execution_count": 7,
   "id": "f430bfa0",
   "metadata": {
    "execution": {
     "iopub.execute_input": "2023-01-29T20:23:26.316777Z",
     "iopub.status.busy": "2023-01-29T20:23:26.316268Z",
     "iopub.status.idle": "2023-01-29T20:23:26.621030Z",
     "shell.execute_reply": "2023-01-29T20:23:26.620183Z"
    },
    "papermill": {
     "duration": 0.326956,
     "end_time": "2023-01-29T20:23:26.623588",
     "exception": false,
     "start_time": "2023-01-29T20:23:26.296632",
     "status": "completed"
    },
    "tags": []
   },
   "outputs": [
    {
     "data": {
      "text/plain": [
       "<AxesSubplot:xlabel='label', ylabel='count'>"
      ]
     },
     "execution_count": 7,
     "metadata": {},
     "output_type": "execute_result"
    },
    {
     "data": {
      "image/png": "[encoded data removed]",
      "text/plain": [
       "<Figure size 432x288 with 1 Axes>"
      ]
     },
     "metadata": {
      "needs_background": "light"
     },
     "output_type": "display_data"
    }
   ],
   "source": [
    "seaborn.countplot(train['label'])"
   ]
  },
  {
   "cell_type": "code",
   "execution_count": 8,
   "id": "ef48d7f6",
   "metadata": {
    "execution": {
     "iopub.execute_input": "2023-01-29T20:23:26.648508Z",
     "iopub.status.busy": "2023-01-29T20:23:26.648172Z",
     "iopub.status.idle": "2023-01-29T20:23:26.864772Z",
     "shell.execute_reply": "2023-01-29T20:23:26.864126Z"
    },
    "papermill": {
     "duration": 0.230834,
     "end_time": "2023-01-29T20:23:26.866678",
     "exception": false,
     "start_time": "2023-01-29T20:23:26.635844",
     "status": "completed"
    },
    "tags": []
   },
   "outputs": [
    {
     "data": {
      "image/png": "[encoded data removed]",
      "text/plain": [
       "<Figure size 432x288 with 1 Axes>"
      ]
     },
     "metadata": {
      "needs_background": "light"
     },
     "output_type": "display_data"
    }
   ],
   "source": [
    "from PIL import Image\n",
    "img = Image.open(train['image'][25])\n",
    "plt.imshow(img,cmap='gray');"
   ]
  },
  {
   "cell_type": "code",
   "execution_count": 9,
   "id": "2928d63f",
   "metadata": {
    "execution": {
     "iopub.execute_input": "2023-01-29T20:23:26.890318Z",
     "iopub.status.busy": "2023-01-29T20:23:26.890001Z",
     "iopub.status.idle": "2023-01-29T20:23:28.093607Z",
     "shell.execute_reply": "2023-01-29T20:23:28.092677Z"
    },
    "papermill": {
     "duration": 1.216351,
     "end_time": "2023-01-29T20:23:28.097266",
     "exception": false,
     "start_time": "2023-01-29T20:23:26.880915",
     "status": "completed"
    },
    "tags": []
   },
   "outputs": [
    {
     "data": {
      "image/png": "[encoded data removed]",
      "text/plain": [
       "<Figure size 1440x1440 with 25 Axes>"
      ]
     },
     "metadata": {
      "needs_background": "light"
     },
     "output_type": "display_data"
    }
   ],
   "source": [
    "# Displaying grid of images\n",
    "from keras.preprocessing.image import load_img\n",
    "\n",
    "plt.figure(figsize=(20,20))\n",
    "files = train.iloc[0:25]\n",
    "\n",
    "for index, file, label in files.itertuples():\n",
    "    plt.subplot(5, 5, index+1)\n",
    "    img = load_img(file)\n",
    "    img = np.array(img)\n",
    "    plt.imshow(img)\n",
    "    plt.title(label)\n",
    "    plt.axis('off')"
   ]
  },
  {
   "cell_type": "markdown",
   "id": "40294aa4",
   "metadata": {
    "papermill": {
     "duration": 0.009825,
     "end_time": "2023-01-29T20:23:28.117560",
     "exception": false,
     "start_time": "2023-01-29T20:23:28.107735",
     "status": "completed"
    },
    "tags": []
   },
   "source": [
    "## Feature Extraction"
   ]
  },
  {
   "cell_type": "code",
   "execution_count": 10,
   "id": "7228acb9",
   "metadata": {
    "execution": {
     "iopub.execute_input": "2023-01-29T20:23:28.138761Z",
     "iopub.status.busy": "2023-01-29T20:23:28.138463Z",
     "iopub.status.idle": "2023-01-29T20:23:28.143783Z",
     "shell.execute_reply": "2023-01-29T20:23:28.142890Z"
    },
    "papermill": {
     "duration": 0.018133,
     "end_time": "2023-01-29T20:23:28.145660",
     "exception": false,
     "start_time": "2023-01-29T20:23:28.127527",
     "status": "completed"
    },
    "tags": []
   },
   "outputs": [],
   "source": [
    "def extract_features(images):\n",
    "    features = []\n",
    "    for image in tqdm(images):\n",
    "        img = load_img(image,grayscale=True)\n",
    "        img = np.array(img)\n",
    "        features.append(img)\n",
    "    features = np.array(features)\n",
    "    features  = features.reshape(len(features),48,48,1)\n",
    "    return features"
   ]
  },
  {
   "cell_type": "code",
   "execution_count": 11,
   "id": "210851b4",
   "metadata": {
    "execution": {
     "iopub.execute_input": "2023-01-29T20:23:28.167257Z",
     "iopub.status.busy": "2023-01-29T20:23:28.166460Z",
     "iopub.status.idle": "2023-01-29T20:28:39.383371Z",
     "shell.execute_reply": "2023-01-29T20:28:39.382339Z"
    },
    "papermill": {
     "duration": 311.230148,
     "end_time": "2023-01-29T20:28:39.385819",
     "exception": false,
     "start_time": "2023-01-29T20:23:28.155671",
     "status": "completed"
    },
    "tags": []
   },
   "outputs": [
    {
     "data": {
      "application/vnd.jupyter.widget-view+json": {
       "model_id": "940c1f92809143c5be43cca0c475f0a9",
       "version_major": 2,
       "version_minor": 0
      },
      "text/plain": [
       "  0%|          | 0/28709 [00:00<?, ?it/s]"
      ]
     },
     "metadata": {},
     "output_type": "display_data"
    }
   ],
   "source": [
    "train_features = extract_features(train['image'])"
   ]
  },
  {
   "cell_type": "code",
   "execution_count": 12,
   "id": "258400bd",
   "metadata": {
    "execution": {
     "iopub.execute_input": "2023-01-29T20:28:39.408385Z",
     "iopub.status.busy": "2023-01-29T20:28:39.408041Z",
     "iopub.status.idle": "2023-01-29T20:29:45.841242Z",
     "shell.execute_reply": "2023-01-29T20:29:45.840313Z"
    },
    "papermill": {
     "duration": 66.446777,
     "end_time": "2023-01-29T20:29:45.843391",
     "exception": false,
     "start_time": "2023-01-29T20:28:39.396614",
     "status": "completed"
    },
    "tags": []
   },
   "outputs": [
    {
     "data": {
      "application/vnd.jupyter.widget-view+json": {
       "model_id": "6bcf23e965474d7bb22ba59e25ff6fa3",
       "version_major": 2,
       "version_minor": 0
      },
      "text/plain": [
       "  0%|          | 0/7178 [00:00<?, ?it/s]"
      ]
     },
     "metadata": {},
     "output_type": "display_data"
    }
   ],
   "source": [
    "test_features = extract_features(test['image'])"
   ]
  },
  {
   "cell_type": "code",
   "execution_count": 13,
   "id": "4cbba97b",
   "metadata": {
    "execution": {
     "iopub.execute_input": "2023-01-29T20:29:45.867301Z",
     "iopub.status.busy": "2023-01-29T20:29:45.866973Z",
     "iopub.status.idle": "2023-01-29T20:29:45.872189Z",
     "shell.execute_reply": "2023-01-29T20:29:45.870789Z"
    },
    "papermill": {
     "duration": 0.019719,
     "end_time": "2023-01-29T20:29:45.874436",
     "exception": false,
     "start_time": "2023-01-29T20:29:45.854717",
     "status": "completed"
    },
    "tags": []
   },
   "outputs": [],
   "source": [
    "# saving the features\n",
    "\n",
    "import pickle\n",
    "WORKING_DIR = '/kaggle/working'"
   ]
  },
  {
   "cell_type": "code",
   "execution_count": 14,
   "id": "89b80dd3",
   "metadata": {
    "execution": {
     "iopub.execute_input": "2023-01-29T20:29:45.897420Z",
     "iopub.status.busy": "2023-01-29T20:29:45.897088Z",
     "iopub.status.idle": "2023-01-29T20:29:46.037379Z",
     "shell.execute_reply": "2023-01-29T20:29:46.036327Z"
    },
    "papermill": {
     "duration": 0.15465,
     "end_time": "2023-01-29T20:29:46.039971",
     "exception": false,
     "start_time": "2023-01-29T20:29:45.885321",
     "status": "completed"
    },
    "tags": []
   },
   "outputs": [],
   "source": [
    "# storing features in pickle\n",
    "pickle.dump(train_features, open(os.path.join(WORKING_DIR, 'train_features'), 'wb'))\n",
    "pickle.dump(test_features, open(os.path.join(WORKING_DIR, 'test_features'), 'wb'))"
   ]
  },
  {
   "cell_type": "code",
   "execution_count": 15,
   "id": "2b8d00af",
   "metadata": {
    "execution": {
     "iopub.execute_input": "2023-01-29T20:29:46.064017Z",
     "iopub.status.busy": "2023-01-29T20:29:46.063072Z",
     "iopub.status.idle": "2023-01-29T20:29:46.182014Z",
     "shell.execute_reply": "2023-01-29T20:29:46.181026Z"
    },
    "papermill": {
     "duration": 0.133524,
     "end_time": "2023-01-29T20:29:46.184527",
     "exception": false,
     "start_time": "2023-01-29T20:29:46.051003",
     "status": "completed"
    },
    "tags": []
   },
   "outputs": [],
   "source": [
    "# loading features from pickle\n",
    "with open(os.path.join(WORKING_DIR, 'train_features'), 'rb') as f:\n",
    "    train_features = pickle.load(f)\n",
    "    \n",
    "with open(os.path.join(WORKING_DIR, 'test_features'), 'rb') as f:\n",
    "    test_features = pickle.load(f)"
   ]
  },
  {
   "cell_type": "code",
   "execution_count": 16,
   "id": "768d04f9",
   "metadata": {
    "execution": {
     "iopub.execute_input": "2023-01-29T20:29:46.208700Z",
     "iopub.status.busy": "2023-01-29T20:29:46.208374Z",
     "iopub.status.idle": "2023-01-29T20:29:46.425219Z",
     "shell.execute_reply": "2023-01-29T20:29:46.424238Z"
    },
    "papermill": {
     "duration": 0.23183,
     "end_time": "2023-01-29T20:29:46.427756",
     "exception": false,
     "start_time": "2023-01-29T20:29:46.195926",
     "status": "completed"
    },
    "tags": []
   },
   "outputs": [],
   "source": [
    "## NORMALIZING THE IMAGES\n",
    "x_train = train_features/255.0\n",
    "x_test = test_features/255.0"
   ]
  },
  {
   "cell_type": "code",
   "execution_count": 17,
   "id": "63b962d0",
   "metadata": {
    "execution": {
     "iopub.execute_input": "2023-01-29T20:29:46.450853Z",
     "iopub.status.busy": "2023-01-29T20:29:46.450532Z",
     "iopub.status.idle": "2023-01-29T20:29:46.567026Z",
     "shell.execute_reply": "2023-01-29T20:29:46.566162Z"
    },
    "papermill": {
     "duration": 0.130602,
     "end_time": "2023-01-29T20:29:46.569210",
     "exception": false,
     "start_time": "2023-01-29T20:29:46.438608",
     "status": "completed"
    },
    "tags": []
   },
   "outputs": [],
   "source": [
    "## CONVERTING LABELS TO INTEGERS\n",
    "\n",
    "from sklearn.preprocessing import LabelEncoder\n",
    "le = LabelEncoder()\n",
    "le.fit(train['label'])\n",
    "y_train = le.transform(train['label'])\n",
    "y_test = le.transform(test['label'])"
   ]
  },
  {
   "cell_type": "code",
   "execution_count": 18,
   "id": "aa6b0df7",
   "metadata": {
    "execution": {
     "iopub.execute_input": "2023-01-29T20:29:46.591015Z",
     "iopub.status.busy": "2023-01-29T20:29:46.590727Z",
     "iopub.status.idle": "2023-01-29T20:29:46.596806Z",
     "shell.execute_reply": "2023-01-29T20:29:46.595807Z"
    },
    "papermill": {
     "duration": 0.02031,
     "end_time": "2023-01-29T20:29:46.599818",
     "exception": false,
     "start_time": "2023-01-29T20:29:46.579508",
     "status": "completed"
    },
    "tags": []
   },
   "outputs": [
    {
     "data": {
      "text/plain": [
       "5"
      ]
     },
     "execution_count": 18,
     "metadata": {},
     "output_type": "execute_result"
    }
   ],
   "source": [
    "y_train[0]"
   ]
  },
  {
   "cell_type": "code",
   "execution_count": 19,
   "id": "16870f86",
   "metadata": {
    "execution": {
     "iopub.execute_input": "2023-01-29T20:29:46.621223Z",
     "iopub.status.busy": "2023-01-29T20:29:46.620959Z",
     "iopub.status.idle": "2023-01-29T20:29:46.890703Z",
     "shell.execute_reply": "2023-01-29T20:29:46.889779Z"
    },
    "papermill": {
     "duration": 0.283197,
     "end_time": "2023-01-29T20:29:46.893107",
     "exception": false,
     "start_time": "2023-01-29T20:29:46.609910",
     "status": "completed"
    },
    "tags": []
   },
   "outputs": [],
   "source": [
    "from tensorflow.keras.utils import to_categorical\n",
    "y_train = to_categorical(y_train,num_classes=7)\n",
    "y_test = to_categorical(y_test,num_classes=7)"
   ]
  },
  {
   "cell_type": "code",
   "execution_count": 20,
   "id": "29ddee55",
   "metadata": {
    "execution": {
     "iopub.execute_input": "2023-01-29T20:29:46.915465Z",
     "iopub.status.busy": "2023-01-29T20:29:46.915156Z",
     "iopub.status.idle": "2023-01-29T20:29:46.922198Z",
     "shell.execute_reply": "2023-01-29T20:29:46.921252Z"
    },
    "papermill": {
     "duration": 0.020281,
     "end_time": "2023-01-29T20:29:46.924153",
     "exception": false,
     "start_time": "2023-01-29T20:29:46.903872",
     "status": "completed"
    },
    "tags": []
   },
   "outputs": [
    {
     "data": {
      "text/plain": [
       "array([0., 0., 0., 0., 0., 1., 0.], dtype=float32)"
      ]
     },
     "execution_count": 20,
     "metadata": {},
     "output_type": "execute_result"
    }
   ],
   "source": [
    "y_train[0]"
   ]
  },
  {
   "cell_type": "code",
   "execution_count": 21,
   "id": "437eb44a",
   "metadata": {
    "execution": {
     "iopub.execute_input": "2023-01-29T20:29:46.946873Z",
     "iopub.status.busy": "2023-01-29T20:29:46.946598Z",
     "iopub.status.idle": "2023-01-29T20:29:46.950759Z",
     "shell.execute_reply": "2023-01-29T20:29:46.949805Z"
    },
    "papermill": {
     "duration": 0.018402,
     "end_time": "2023-01-29T20:29:46.952900",
     "exception": false,
     "start_time": "2023-01-29T20:29:46.934498",
     "status": "completed"
    },
    "tags": []
   },
   "outputs": [],
   "source": [
    "## CONFIGURATION\n",
    "input_shape = (48,48,1)\n",
    "output_class = 7"
   ]
  },
  {
   "cell_type": "markdown",
   "id": "b6b6e37b",
   "metadata": {
    "papermill": {
     "duration": 0.010189,
     "end_time": "2023-01-29T20:29:46.973298",
     "exception": false,
     "start_time": "2023-01-29T20:29:46.963109",
     "status": "completed"
    },
    "tags": []
   },
   "source": [
    "## Model Creation"
   ]
  },
  {
   "cell_type": "code",
   "execution_count": 22,
   "id": "5ebd895a",
   "metadata": {
    "execution": {
     "iopub.execute_input": "2023-01-29T20:29:46.995139Z",
     "iopub.status.busy": "2023-01-29T20:29:46.994857Z",
     "iopub.status.idle": "2023-01-29T20:29:49.798865Z",
     "shell.execute_reply": "2023-01-29T20:29:49.796661Z"
    },
    "papermill": {
     "duration": 2.818151,
     "end_time": "2023-01-29T20:29:49.801688",
     "exception": false,
     "start_time": "2023-01-29T20:29:46.983537",
     "status": "completed"
    },
    "tags": []
   },
   "outputs": [
    {
     "name": "stderr",
     "output_type": "stream",
     "text": [
      "2023-01-29 20:29:47.090126: I tensorflow/stream_executor/cuda/cuda_gpu_executor.cc:937] successful NUMA node read from SysFS had negative value (-1), but there must be at least one NUMA node, so returning NUMA node zero\n",
      "2023-01-29 20:29:47.196003: I tensorflow/stream_executor/cuda/cuda_gpu_executor.cc:937] successful NUMA node read from SysFS had negative value (-1), but there must be at least one NUMA node, so returning NUMA node zero\n",
      "2023-01-29 20:29:47.196827: I tensorflow/stream_executor/cuda/cuda_gpu_executor.cc:937] successful NUMA node read from SysFS had negative value (-1), but there must be at least one NUMA node, so returning NUMA node zero\n",
      "2023-01-29 20:29:47.199609: I tensorflow/core/platform/cpu_feature_guard.cc:142] This TensorFlow binary is optimized with oneAPI Deep Neural Network Library (oneDNN) to use the following CPU instructions in performance-critical operations:  AVX2 AVX512F FMA\n",
      "To enable them in other operations, rebuild TensorFlow with the appropriate compiler flags.\n",
      "2023-01-29 20:29:47.199986: I tensorflow/stream_executor/cuda/cuda_gpu_executor.cc:937] successful NUMA node read from SysFS had negative value (-1), but there must be at least one NUMA node, so returning NUMA node zero\n",
      "2023-01-29 20:29:47.200905: I tensorflow/stream_executor/cuda/cuda_gpu_executor.cc:937] successful NUMA node read from SysFS had negative value (-1), but there must be at least one NUMA node, so returning NUMA node zero\n",
      "2023-01-29 20:29:47.201779: I tensorflow/stream_executor/cuda/cuda_gpu_executor.cc:937] successful NUMA node read from SysFS had negative value (-1), but there must be at least one NUMA node, so returning NUMA node zero\n",
      "2023-01-29 20:29:49.324260: I tensorflow/stream_executor/cuda/cuda_gpu_executor.cc:937] successful NUMA node read from SysFS had negative value (-1), but there must be at least one NUMA node, so returning NUMA node zero\n",
      "2023-01-29 20:29:49.325071: I tensorflow/stream_executor/cuda/cuda_gpu_executor.cc:937] successful NUMA node read from SysFS had negative value (-1), but there must be at least one NUMA node, so returning NUMA node zero\n",
      "2023-01-29 20:29:49.325821: I tensorflow/stream_executor/cuda/cuda_gpu_executor.cc:937] successful NUMA node read from SysFS had negative value (-1), but there must be at least one NUMA node, so returning NUMA node zero\n",
      "2023-01-29 20:29:49.326454: I tensorflow/core/common_runtime/gpu/gpu_device.cc:1510] Created device /job:localhost/replica:0/task:0/device:GPU:0 with 15401 MB memory:  -> device: 0, name: Tesla P100-PCIE-16GB, pci bus id: 0000:00:04.0, compute capability: 6.0\n"
     ]
    }
   ],
   "source": [
    "model = Sequential()\n",
    "# CONVOLUTIONAL LAYER\n",
    "model.add(Conv2D(128, kernel_size=(3,3), activation='relu', input_shape=input_shape))\n",
    "model.add(MaxPooling2D(pool_size=(2,2)))\n",
    "model.add(Dropout(0.4))\n",
    "\n",
    "model.add(Conv2D(256, kernel_size=(3,3), activation='relu'))\n",
    "model.add(MaxPooling2D(pool_size=(2,2)))\n",
    "model.add(Dropout(0.4))\n",
    "\n",
    "model.add(Conv2D(512, kernel_size=(3,3), activation='relu'))\n",
    "model.add(MaxPooling2D(pool_size=(2,2)))\n",
    "model.add(Dropout(0.4))\n",
    "\n",
    "model.add(Conv2D(512, kernel_size=(3,3), activation='relu'))\n",
    "model.add(MaxPooling2D(pool_size=(2,2)))\n",
    "model.add(Dropout(0.4))\n",
    "\n",
    "model.add(Flatten())\n",
    "# FULLY CONNECTED LAYER\n",
    "model.add(Dense(512, activation='relu'))\n",
    "model.add(Dropout(0.4))\n",
    "model.add(Dense(256, activation='relu'))\n",
    "model.add(Dropout(0.3))\n",
    "# OUTPUT LAYER\n",
    "model.add(Dense(output_class, activation='softmax'))\n",
    "\n",
    "model.compile(optimizer='adam',loss='categorical_crossentropy',metrics=['accuracy'])"
   ]
  },
  {
   "cell_type": "code",
   "execution_count": 23,
   "id": "3daf66a4",
   "metadata": {
    "execution": {
     "iopub.execute_input": "2023-01-29T20:29:49.825227Z",
     "iopub.status.busy": "2023-01-29T20:29:49.824575Z",
     "iopub.status.idle": "2023-01-29T20:29:49.831205Z",
     "shell.execute_reply": "2023-01-29T20:29:49.830255Z"
    },
    "papermill": {
     "duration": 0.021033,
     "end_time": "2023-01-29T20:29:49.833897",
     "exception": false,
     "start_time": "2023-01-29T20:29:49.812864",
     "status": "completed"
    },
    "tags": []
   },
   "outputs": [
    {
     "name": "stdout",
     "output_type": "stream",
     "text": [
      "Model: \"sequential\"\n",
      "_________________________________________________________________\n",
      "Layer (type)                 Output Shape              Param #   \n",
      "=================================================================\n",
      "conv2d (Conv2D)              (None, 46, 46, 128)       1280      \n",
      "_________________________________________________________________\n",
      "max_pooling2d (MaxPooling2D) (None, 23, 23, 128)       0         \n",
      "_________________________________________________________________\n",
      "dropout (Dropout)            (None, 23, 23, 128)       0         \n",
      "_________________________________________________________________\n",
      "conv2d_1 (Conv2D)            (None, 21, 21, 256)       295168    \n",
      "_________________________________________________________________\n",
      "max_pooling2d_1 (MaxPooling2 (None, 10, 10, 256)       0         \n",
      "_________________________________________________________________\n",
      "dropout_1 (Dropout)          (None, 10, 10, 256)       0         \n",
      "_________________________________________________________________\n",
      "conv2d_2 (Conv2D)            (None, 8, 8, 512)         1180160   \n",
      "_________________________________________________________________\n",
      "max_pooling2d_2 (MaxPooling2 (None, 4, 4, 512)         0         \n",
      "_________________________________________________________________\n",
      "dropout_2 (Dropout)          (None, 4, 4, 512)         0         \n",
      "_________________________________________________________________\n",
      "conv2d_3 (Conv2D)            (None, 2, 2, 512)         2359808   \n",
      "_________________________________________________________________\n",
      "max_pooling2d_3 (MaxPooling2 (None, 1, 1, 512)         0         \n",
      "_________________________________________________________________\n",
      "dropout_3 (Dropout)          (None, 1, 1, 512)         0         \n",
      "_________________________________________________________________\n",
      "flatten (Flatten)            (None, 512)               0         \n",
      "_________________________________________________________________\n",
      "dense (Dense)                (None, 512)               262656    \n",
      "_________________________________________________________________\n",
      "dropout_4 (Dropout)          (None, 512)               0         \n",
      "_________________________________________________________________\n",
      "dense_1 (Dense)              (None, 256)               131328    \n",
      "_________________________________________________________________\n",
      "dropout_5 (Dropout)          (None, 256)               0         \n",
      "_________________________________________________________________\n",
      "dense_2 (Dense)              (None, 7)                 1799      \n",
      "=================================================================\n",
      "Total params: 4,232,199\n",
      "Trainable params: 4,232,199\n",
      "Non-trainable params: 0\n",
      "_________________________________________________________________\n"
     ]
    }
   ],
   "source": [
    "model.summary()"
   ]
  },
  {
   "cell_type": "code",
   "execution_count": 24,
   "id": "973df9fe",
   "metadata": {
    "execution": {
     "iopub.execute_input": "2023-01-29T20:29:49.857429Z",
     "iopub.status.busy": "2023-01-29T20:29:49.856658Z",
     "iopub.status.idle": "2023-01-29T20:29:51.060111Z",
     "shell.execute_reply": "2023-01-29T20:29:51.059037Z"
    },
    "papermill": {
     "duration": 1.217014,
     "end_time": "2023-01-29T20:29:51.062240",
     "exception": false,
     "start_time": "2023-01-29T20:29:49.845226",
     "status": "completed"
    },
    "tags": []
   },
   "outputs": [
    {
     "data": {
      "image/png": "[encoded data removed]",
      "text/plain": [
       "<IPython.core.display.Image object>"
      ]
     },
     "execution_count": 24,
     "metadata": {},
     "output_type": "execute_result"
    }
   ],
   "source": [
    "# Plotting the model\n",
    "\n",
    "from tensorflow.keras.utils import plot_model\n",
    "plot_model(model)"
   ]
  },
  {
   "cell_type": "code",
   "execution_count": 25,
   "id": "880091b7",
   "metadata": {
    "execution": {
     "iopub.execute_input": "2023-01-29T20:29:51.086955Z",
     "iopub.status.busy": "2023-01-29T20:29:51.086644Z",
     "iopub.status.idle": "2023-01-29T20:41:14.351803Z",
     "shell.execute_reply": "2023-01-29T20:41:14.350776Z"
    },
    "papermill": {
     "duration": 683.280472,
     "end_time": "2023-01-29T20:41:14.354547",
     "exception": false,
     "start_time": "2023-01-29T20:29:51.074075",
     "status": "completed"
    },
    "tags": []
   },
   "outputs": [
    {
     "name": "stderr",
     "output_type": "stream",
     "text": [
      "2023-01-29 20:29:51.749533: I tensorflow/compiler/mlir/mlir_graph_optimization_pass.cc:185] None of the MLIR Optimization Passes are enabled (registered 2)\n"
     ]
    },
    {
     "name": "stdout",
     "output_type": "stream",
     "text": [
      "Epoch 1/100\n"
     ]
    },
    {
     "name": "stderr",
     "output_type": "stream",
     "text": [
      "2023-01-29 20:29:53.300654: I tensorflow/stream_executor/cuda/cuda_dnn.cc:369] Loaded cuDNN version 8005\n"
     ]
    },
    {
     "name": "stdout",
     "output_type": "stream",
     "text": [
      "225/225 [==============================] - 15s 31ms/step - loss: 1.8232 - accuracy: 0.2474 - val_loss: 1.8146 - val_accuracy: 0.2471\n",
      "Epoch 2/100\n",
      "225/225 [==============================] - 6s 28ms/step - loss: 1.8139 - accuracy: 0.2511 - val_loss: 1.8048 - val_accuracy: 0.2542\n",
      "Epoch 3/100\n",
      "225/225 [==============================] - 6s 28ms/step - loss: 1.7842 - accuracy: 0.2633 - val_loss: 1.7206 - val_accuracy: 0.2899\n",
      "Epoch 4/100\n",
      "225/225 [==============================] - 6s 28ms/step - loss: 1.6951 - accuracy: 0.3083 - val_loss: 1.5632 - val_accuracy: 0.3840\n",
      "Epoch 5/100\n",
      "225/225 [==============================] - 6s 28ms/step - loss: 1.5752 - accuracy: 0.3819 - val_loss: 1.4389 - val_accuracy: 0.4234\n",
      "Epoch 6/100\n",
      "225/225 [==============================] - 6s 28ms/step - loss: 1.4797 - accuracy: 0.4234 - val_loss: 1.3598 - val_accuracy: 0.4762\n",
      "Epoch 7/100\n",
      "225/225 [==============================] - 6s 28ms/step - loss: 1.4226 - accuracy: 0.4494 - val_loss: 1.3101 - val_accuracy: 0.4950\n",
      "Epoch 8/100\n",
      "225/225 [==============================] - 6s 28ms/step - loss: 1.3820 - accuracy: 0.4693 - val_loss: 1.2956 - val_accuracy: 0.5026\n",
      "Epoch 9/100\n",
      "225/225 [==============================] - 6s 28ms/step - loss: 1.3532 - accuracy: 0.4802 - val_loss: 1.2493 - val_accuracy: 0.5222\n",
      "Epoch 10/100\n",
      "225/225 [==============================] - 6s 28ms/step - loss: 1.3187 - accuracy: 0.4944 - val_loss: 1.2416 - val_accuracy: 0.5148\n",
      "Epoch 11/100\n",
      "225/225 [==============================] - 6s 28ms/step - loss: 1.3052 - accuracy: 0.5040 - val_loss: 1.2038 - val_accuracy: 0.5391\n",
      "Epoch 12/100\n",
      "225/225 [==============================] - 6s 28ms/step - loss: 1.2773 - accuracy: 0.5090 - val_loss: 1.1933 - val_accuracy: 0.5418\n",
      "Epoch 13/100\n",
      "225/225 [==============================] - 6s 28ms/step - loss: 1.2667 - accuracy: 0.5168 - val_loss: 1.1775 - val_accuracy: 0.5500\n",
      "Epoch 14/100\n",
      "225/225 [==============================] - 6s 28ms/step - loss: 1.2478 - accuracy: 0.5220 - val_loss: 1.1755 - val_accuracy: 0.5502\n",
      "Epoch 15/100\n",
      "225/225 [==============================] - 6s 28ms/step - loss: 1.2348 - accuracy: 0.5282 - val_loss: 1.1715 - val_accuracy: 0.5527\n",
      "Epoch 16/100\n",
      "225/225 [==============================] - 6s 28ms/step - loss: 1.2187 - accuracy: 0.5366 - val_loss: 1.1477 - val_accuracy: 0.5591\n",
      "Epoch 17/100\n",
      "225/225 [==============================] - 6s 28ms/step - loss: 1.2088 - accuracy: 0.5389 - val_loss: 1.1577 - val_accuracy: 0.5600\n",
      "Epoch 18/100\n",
      "225/225 [==============================] - 6s 28ms/step - loss: 1.1947 - accuracy: 0.5495 - val_loss: 1.1310 - val_accuracy: 0.5667\n",
      "Epoch 19/100\n",
      "225/225 [==============================] - 6s 28ms/step - loss: 1.1794 - accuracy: 0.5521 - val_loss: 1.1177 - val_accuracy: 0.5720\n",
      "Epoch 20/100\n",
      "225/225 [==============================] - 6s 28ms/step - loss: 1.1740 - accuracy: 0.5535 - val_loss: 1.1222 - val_accuracy: 0.5695\n",
      "Epoch 21/100\n",
      "225/225 [==============================] - 6s 28ms/step - loss: 1.1654 - accuracy: 0.5570 - val_loss: 1.1192 - val_accuracy: 0.5705\n",
      "Epoch 22/100\n",
      "225/225 [==============================] - 6s 28ms/step - loss: 1.1504 - accuracy: 0.5648 - val_loss: 1.0918 - val_accuracy: 0.5850\n",
      "Epoch 23/100\n",
      "225/225 [==============================] - 6s 28ms/step - loss: 1.1431 - accuracy: 0.5691 - val_loss: 1.0979 - val_accuracy: 0.5834\n",
      "Epoch 24/100\n",
      "225/225 [==============================] - 6s 28ms/step - loss: 1.1261 - accuracy: 0.5733 - val_loss: 1.1002 - val_accuracy: 0.5794\n",
      "Epoch 25/100\n",
      "225/225 [==============================] - 6s 28ms/step - loss: 1.1251 - accuracy: 0.5720 - val_loss: 1.0795 - val_accuracy: 0.5890\n",
      "Epoch 26/100\n",
      "225/225 [==============================] - 6s 28ms/step - loss: 1.1226 - accuracy: 0.5742 - val_loss: 1.0779 - val_accuracy: 0.5935\n",
      "Epoch 27/100\n",
      "225/225 [==============================] - 6s 28ms/step - loss: 1.1081 - accuracy: 0.5808 - val_loss: 1.0759 - val_accuracy: 0.5869\n",
      "Epoch 28/100\n",
      "225/225 [==============================] - 6s 28ms/step - loss: 1.0977 - accuracy: 0.5824 - val_loss: 1.0697 - val_accuracy: 0.5904\n",
      "Epoch 29/100\n",
      "225/225 [==============================] - 6s 28ms/step - loss: 1.0947 - accuracy: 0.5853 - val_loss: 1.0657 - val_accuracy: 0.5907\n",
      "Epoch 30/100\n",
      "225/225 [==============================] - 6s 28ms/step - loss: 1.0909 - accuracy: 0.5901 - val_loss: 1.0690 - val_accuracy: 0.5899\n",
      "Epoch 31/100\n",
      "225/225 [==============================] - 6s 28ms/step - loss: 1.0792 - accuracy: 0.5914 - val_loss: 1.0696 - val_accuracy: 0.5919\n",
      "Epoch 32/100\n",
      "225/225 [==============================] - 6s 28ms/step - loss: 1.0721 - accuracy: 0.5981 - val_loss: 1.0663 - val_accuracy: 0.5950\n",
      "Epoch 33/100\n",
      "225/225 [==============================] - 6s 28ms/step - loss: 1.0638 - accuracy: 0.5962 - val_loss: 1.0634 - val_accuracy: 0.5946\n",
      "Epoch 34/100\n",
      "225/225 [==============================] - 6s 28ms/step - loss: 1.0539 - accuracy: 0.6026 - val_loss: 1.0634 - val_accuracy: 0.5943\n",
      "Epoch 35/100\n",
      "225/225 [==============================] - 6s 28ms/step - loss: 1.0507 - accuracy: 0.6049 - val_loss: 1.0509 - val_accuracy: 0.5995\n",
      "Epoch 36/100\n",
      "225/225 [==============================] - 6s 28ms/step - loss: 1.0408 - accuracy: 0.6099 - val_loss: 1.0616 - val_accuracy: 0.5967\n",
      "Epoch 37/100\n",
      "225/225 [==============================] - 6s 28ms/step - loss: 1.0349 - accuracy: 0.6094 - val_loss: 1.0463 - val_accuracy: 0.5995\n",
      "Epoch 38/100\n",
      "225/225 [==============================] - 6s 28ms/step - loss: 1.0234 - accuracy: 0.6152 - val_loss: 1.0501 - val_accuracy: 0.6013\n",
      "Epoch 39/100\n",
      "225/225 [==============================] - 6s 28ms/step - loss: 1.0273 - accuracy: 0.6127 - val_loss: 1.0469 - val_accuracy: 0.6031\n",
      "Epoch 40/100\n",
      "225/225 [==============================] - 6s 28ms/step - loss: 1.0161 - accuracy: 0.6186 - val_loss: 1.0457 - val_accuracy: 0.6070\n",
      "Epoch 41/100\n",
      "225/225 [==============================] - 6s 28ms/step - loss: 1.0034 - accuracy: 0.6240 - val_loss: 1.0500 - val_accuracy: 0.6009\n",
      "Epoch 42/100\n",
      "225/225 [==============================] - 6s 28ms/step - loss: 0.9948 - accuracy: 0.6239 - val_loss: 1.0493 - val_accuracy: 0.6034\n",
      "Epoch 43/100\n",
      "225/225 [==============================] - 6s 28ms/step - loss: 1.0049 - accuracy: 0.6222 - val_loss: 1.0396 - val_accuracy: 0.6071\n",
      "Epoch 44/100\n",
      "225/225 [==============================] - 6s 28ms/step - loss: 0.9851 - accuracy: 0.6319 - val_loss: 1.0381 - val_accuracy: 0.6056\n",
      "Epoch 45/100\n",
      "225/225 [==============================] - 6s 28ms/step - loss: 0.9823 - accuracy: 0.6358 - val_loss: 1.0398 - val_accuracy: 0.6053\n",
      "Epoch 46/100\n",
      "225/225 [==============================] - 6s 28ms/step - loss: 0.9804 - accuracy: 0.6302 - val_loss: 1.0361 - val_accuracy: 0.6121\n",
      "Epoch 47/100\n",
      "225/225 [==============================] - 6s 28ms/step - loss: 0.9692 - accuracy: 0.6382 - val_loss: 1.0299 - val_accuracy: 0.6098\n",
      "Epoch 48/100\n",
      "225/225 [==============================] - 6s 28ms/step - loss: 0.9661 - accuracy: 0.6382 - val_loss: 1.0405 - val_accuracy: 0.6062\n",
      "Epoch 49/100\n",
      "225/225 [==============================] - 6s 28ms/step - loss: 0.9671 - accuracy: 0.6369 - val_loss: 1.0411 - val_accuracy: 0.6102\n",
      "Epoch 50/100\n",
      "225/225 [==============================] - 6s 28ms/step - loss: 0.9517 - accuracy: 0.6461 - val_loss: 1.0432 - val_accuracy: 0.6101\n",
      "Epoch 51/100\n",
      "225/225 [==============================] - 6s 28ms/step - loss: 0.9555 - accuracy: 0.6420 - val_loss: 1.0472 - val_accuracy: 0.6043\n",
      "Epoch 52/100\n",
      "225/225 [==============================] - 6s 28ms/step - loss: 0.9547 - accuracy: 0.6435 - val_loss: 1.0243 - val_accuracy: 0.6130\n",
      "Epoch 53/100\n",
      "225/225 [==============================] - 6s 28ms/step - loss: 0.9421 - accuracy: 0.6490 - val_loss: 1.0315 - val_accuracy: 0.6116\n",
      "Epoch 54/100\n",
      "225/225 [==============================] - 6s 29ms/step - loss: 0.9377 - accuracy: 0.6509 - val_loss: 1.0365 - val_accuracy: 0.6095\n",
      "Epoch 55/100\n",
      "225/225 [==============================] - 6s 28ms/step - loss: 0.9306 - accuracy: 0.6502 - val_loss: 1.0403 - val_accuracy: 0.6130\n",
      "Epoch 56/100\n",
      "225/225 [==============================] - 6s 28ms/step - loss: 0.9197 - accuracy: 0.6593 - val_loss: 1.0303 - val_accuracy: 0.6119\n",
      "Epoch 57/100\n",
      "225/225 [==============================] - 6s 28ms/step - loss: 0.9232 - accuracy: 0.6555 - val_loss: 1.0265 - val_accuracy: 0.6144\n",
      "Epoch 58/100\n",
      "225/225 [==============================] - 6s 28ms/step - loss: 0.9173 - accuracy: 0.6594 - val_loss: 1.0329 - val_accuracy: 0.6147\n",
      "Epoch 59/100\n",
      "225/225 [==============================] - 6s 28ms/step - loss: 0.9162 - accuracy: 0.6572 - val_loss: 1.0309 - val_accuracy: 0.6103\n",
      "Epoch 60/100\n",
      "225/225 [==============================] - 6s 28ms/step - loss: 0.9040 - accuracy: 0.6609 - val_loss: 1.0279 - val_accuracy: 0.6152\n",
      "Epoch 61/100\n",
      "225/225 [==============================] - 6s 28ms/step - loss: 0.9044 - accuracy: 0.6638 - val_loss: 1.0241 - val_accuracy: 0.6191\n",
      "Epoch 62/100\n",
      "225/225 [==============================] - 6s 28ms/step - loss: 0.8954 - accuracy: 0.6652 - val_loss: 1.0200 - val_accuracy: 0.6179\n",
      "Epoch 63/100\n",
      "225/225 [==============================] - 6s 28ms/step - loss: 0.8954 - accuracy: 0.6656 - val_loss: 1.0254 - val_accuracy: 0.6179\n",
      "Epoch 64/100\n",
      "225/225 [==============================] - 6s 28ms/step - loss: 0.8795 - accuracy: 0.6713 - val_loss: 1.0273 - val_accuracy: 0.6173\n",
      "Epoch 65/100\n",
      "225/225 [==============================] - 6s 28ms/step - loss: 0.8802 - accuracy: 0.6737 - val_loss: 1.0256 - val_accuracy: 0.6172\n",
      "Epoch 66/100\n",
      "225/225 [==============================] - 6s 28ms/step - loss: 0.8790 - accuracy: 0.6760 - val_loss: 1.0177 - val_accuracy: 0.6190\n",
      "Epoch 67/100\n",
      "225/225 [==============================] - 6s 28ms/step - loss: 0.8707 - accuracy: 0.6796 - val_loss: 1.0223 - val_accuracy: 0.6166\n",
      "Epoch 68/100\n",
      "225/225 [==============================] - 6s 28ms/step - loss: 0.8751 - accuracy: 0.6762 - val_loss: 1.0272 - val_accuracy: 0.6158\n",
      "Epoch 69/100\n",
      "225/225 [==============================] - 6s 28ms/step - loss: 0.8603 - accuracy: 0.6795 - val_loss: 1.0216 - val_accuracy: 0.6215\n",
      "Epoch 70/100\n",
      "225/225 [==============================] - 6s 28ms/step - loss: 0.8586 - accuracy: 0.6848 - val_loss: 1.0293 - val_accuracy: 0.6145\n",
      "Epoch 71/100\n",
      "225/225 [==============================] - 6s 28ms/step - loss: 0.8619 - accuracy: 0.6839 - val_loss: 1.0171 - val_accuracy: 0.6215\n",
      "Epoch 72/100\n",
      "225/225 [==============================] - 6s 28ms/step - loss: 0.8583 - accuracy: 0.6810 - val_loss: 1.0191 - val_accuracy: 0.6184\n",
      "Epoch 73/100\n",
      "225/225 [==============================] - 6s 28ms/step - loss: 0.8512 - accuracy: 0.6843 - val_loss: 1.0180 - val_accuracy: 0.6223\n",
      "Epoch 74/100\n",
      "225/225 [==============================] - 6s 28ms/step - loss: 0.8383 - accuracy: 0.6900 - val_loss: 1.0235 - val_accuracy: 0.6208\n",
      "Epoch 75/100\n",
      "225/225 [==============================] - 6s 28ms/step - loss: 0.8394 - accuracy: 0.6888 - val_loss: 1.0207 - val_accuracy: 0.6226\n",
      "Epoch 76/100\n",
      "225/225 [==============================] - 6s 28ms/step - loss: 0.8252 - accuracy: 0.6965 - val_loss: 1.0259 - val_accuracy: 0.6219\n",
      "Epoch 77/100\n",
      "225/225 [==============================] - 6s 28ms/step - loss: 0.8282 - accuracy: 0.6941 - val_loss: 1.0180 - val_accuracy: 0.6212\n",
      "Epoch 78/100\n",
      "225/225 [==============================] - 6s 28ms/step - loss: 0.8238 - accuracy: 0.6977 - val_loss: 1.0313 - val_accuracy: 0.6209\n",
      "Epoch 79/100\n",
      "225/225 [==============================] - 6s 28ms/step - loss: 0.8201 - accuracy: 0.6989 - val_loss: 1.0190 - val_accuracy: 0.6219\n",
      "Epoch 80/100\n",
      "225/225 [==============================] - 6s 28ms/step - loss: 0.8168 - accuracy: 0.6995 - val_loss: 1.0281 - val_accuracy: 0.6173\n",
      "Epoch 81/100\n",
      "225/225 [==============================] - 6s 28ms/step - loss: 0.8083 - accuracy: 0.7015 - val_loss: 1.0154 - val_accuracy: 0.6275\n",
      "Epoch 82/100\n",
      "225/225 [==============================] - 6s 28ms/step - loss: 0.7951 - accuracy: 0.7071 - val_loss: 1.0223 - val_accuracy: 0.6304\n",
      "Epoch 83/100\n",
      "225/225 [==============================] - 6s 28ms/step - loss: 0.8087 - accuracy: 0.7055 - val_loss: 1.0147 - val_accuracy: 0.6272\n",
      "Epoch 84/100\n",
      "225/225 [==============================] - 6s 28ms/step - loss: 0.7978 - accuracy: 0.7080 - val_loss: 1.0165 - val_accuracy: 0.6245\n",
      "Epoch 85/100\n",
      "225/225 [==============================] - 6s 28ms/step - loss: 0.7907 - accuracy: 0.7103 - val_loss: 1.0263 - val_accuracy: 0.6261\n",
      "Epoch 86/100\n",
      "225/225 [==============================] - 6s 28ms/step - loss: 0.7888 - accuracy: 0.7094 - val_loss: 1.0169 - val_accuracy: 0.6278\n",
      "Epoch 87/100\n",
      "225/225 [==============================] - 6s 28ms/step - loss: 0.7817 - accuracy: 0.7111 - val_loss: 1.0353 - val_accuracy: 0.6230\n",
      "Epoch 88/100\n",
      "225/225 [==============================] - 6s 28ms/step - loss: 0.7873 - accuracy: 0.7139 - val_loss: 1.0238 - val_accuracy: 0.6248\n",
      "Epoch 89/100\n",
      "225/225 [==============================] - 6s 28ms/step - loss: 0.7714 - accuracy: 0.7184 - val_loss: 1.0286 - val_accuracy: 0.6305\n",
      "Epoch 90/100\n",
      "225/225 [==============================] - 6s 28ms/step - loss: 0.7831 - accuracy: 0.7154 - val_loss: 1.0328 - val_accuracy: 0.6213\n",
      "Epoch 91/100\n",
      "225/225 [==============================] - 6s 28ms/step - loss: 0.7712 - accuracy: 0.7192 - val_loss: 1.0318 - val_accuracy: 0.6205\n",
      "Epoch 92/100\n",
      "225/225 [==============================] - 6s 28ms/step - loss: 0.7703 - accuracy: 0.7186 - val_loss: 1.0387 - val_accuracy: 0.6216\n",
      "Epoch 93/100\n",
      "225/225 [==============================] - 6s 28ms/step - loss: 0.7715 - accuracy: 0.7168 - val_loss: 1.0345 - val_accuracy: 0.6261\n",
      "Epoch 94/100\n",
      "225/225 [==============================] - 6s 28ms/step - loss: 0.7584 - accuracy: 0.7251 - val_loss: 1.0364 - val_accuracy: 0.6243\n",
      "Epoch 95/100\n",
      "225/225 [==============================] - 6s 28ms/step - loss: 0.7638 - accuracy: 0.7228 - val_loss: 1.0439 - val_accuracy: 0.6154\n",
      "Epoch 96/100\n",
      "225/225 [==============================] - 6s 28ms/step - loss: 0.7564 - accuracy: 0.7245 - val_loss: 1.0332 - val_accuracy: 0.6289\n",
      "Epoch 97/100\n",
      "225/225 [==============================] - 6s 28ms/step - loss: 0.7577 - accuracy: 0.7281 - val_loss: 1.0395 - val_accuracy: 0.6233\n",
      "Epoch 98/100\n",
      "225/225 [==============================] - 6s 28ms/step - loss: 0.7486 - accuracy: 0.7276 - val_loss: 1.0319 - val_accuracy: 0.6271\n",
      "Epoch 99/100\n",
      "225/225 [==============================] - 6s 28ms/step - loss: 0.7333 - accuracy: 0.7349 - val_loss: 1.0335 - val_accuracy: 0.6342\n",
      "Epoch 100/100\n",
      "225/225 [==============================] - 6s 28ms/step - loss: 0.7380 - accuracy: 0.7319 - val_loss: 1.0314 - val_accuracy: 0.6305\n"
     ]
    }
   ],
   "source": [
    "history = model.fit(x_train,y_train,batch_size=128,epochs=100,validation_data=(x_test,y_test))"
   ]
  },
  {
   "cell_type": "markdown",
   "id": "ee86eb08",
   "metadata": {
    "papermill": {
     "duration": 0.656402,
     "end_time": "2023-01-29T20:41:15.602748",
     "exception": false,
     "start_time": "2023-01-29T20:41:14.946346",
     "status": "completed"
    },
    "tags": []
   },
   "source": [
    "## Plotting the results"
   ]
  },
  {
   "cell_type": "code",
   "execution_count": 26,
   "id": "395bbb0c",
   "metadata": {
    "execution": {
     "iopub.execute_input": "2023-01-29T20:41:16.904704Z",
     "iopub.status.busy": "2023-01-29T20:41:16.904325Z",
     "iopub.status.idle": "2023-01-29T20:41:17.348939Z",
     "shell.execute_reply": "2023-01-29T20:41:17.347974Z"
    },
    "papermill": {
     "duration": 1.118916,
     "end_time": "2023-01-29T20:41:17.351395",
     "exception": false,
     "start_time": "2023-01-29T20:41:16.232479",
     "status": "completed"
    },
    "tags": []
   },
   "outputs": [
    {
     "data": {
      "image/png": "[encoded data removed]",
      "text/plain": [
       "<Figure size 432x288 with 1 Axes>"
      ]
     },
     "metadata": {
      "needs_background": "light"
     },
     "output_type": "display_data"
    },
    {
     "data": {
      "image/png": "[encoded data removed]",
      "text/plain": [
       "<Figure size 432x288 with 1 Axes>"
      ]
     },
     "metadata": {
      "needs_background": "light"
     },
     "output_type": "display_data"
    }
   ],
   "source": [
    "## ACCURACY AND LOSS GRAPH\n",
    "\n",
    "acc = history.history['accuracy']\n",
    "val_acc = history.history['val_accuracy']\n",
    "epochs = range(len(acc))\n",
    "\n",
    "plt.plot(epochs, acc, 'b', label='Training Accuracy')\n",
    "plt.plot(epochs, val_acc, 'r', label='Validation Accuracy')\n",
    "plt.title('Accuracy Graph')\n",
    "plt.legend()\n",
    "plt.figure()\n",
    "\n",
    "loss = history.history['loss']\n",
    "val_loss = history.history['val_loss']\n",
    "epochs = range(len(acc))\n",
    "\n",
    "plt.plot(epochs, loss, 'b', label='Training Loss')\n",
    "plt.plot(epochs, val_loss, 'r', label='Validation Loss')\n",
    "plt.title('Loss Graph')\n",
    "plt.legend()\n",
    "\n",
    "plt.show()"
   ]
  },
  {
   "cell_type": "markdown",
   "id": "bde078a2",
   "metadata": {
    "papermill": {
     "duration": 0.642266,
     "end_time": "2023-01-29T20:41:18.648431",
     "exception": false,
     "start_time": "2023-01-29T20:41:18.006165",
     "status": "completed"
    },
    "tags": []
   },
   "source": [
    "## Testing"
   ]
  },
  {
   "cell_type": "code",
   "execution_count": 27,
   "id": "463110e9",
   "metadata": {
    "execution": {
     "iopub.execute_input": "2023-01-29T20:41:19.885336Z",
     "iopub.status.busy": "2023-01-29T20:41:19.884948Z",
     "iopub.status.idle": "2023-01-29T20:41:19.889656Z",
     "shell.execute_reply": "2023-01-29T20:41:19.888601Z"
    },
    "papermill": {
     "duration": 0.650832,
     "end_time": "2023-01-29T20:41:19.892168",
     "exception": false,
     "start_time": "2023-01-29T20:41:19.241336",
     "status": "completed"
    },
    "tags": []
   },
   "outputs": [],
   "source": [
    "import random"
   ]
  },
  {
   "cell_type": "code",
   "execution_count": 28,
   "id": "9c2c2d62",
   "metadata": {
    "execution": {
     "iopub.execute_input": "2023-01-29T20:41:21.130773Z",
     "iopub.status.busy": "2023-01-29T20:41:21.130360Z",
     "iopub.status.idle": "2023-01-29T20:41:21.478401Z",
     "shell.execute_reply": "2023-01-29T20:41:21.477518Z"
    },
    "papermill": {
     "duration": 0.992174,
     "end_time": "2023-01-29T20:41:21.480430",
     "exception": false,
     "start_time": "2023-01-29T20:41:20.488256",
     "status": "completed"
    },
    "tags": []
   },
   "outputs": [
    {
     "name": "stdout",
     "output_type": "stream",
     "text": [
      "Original Output: happy\n",
      "Predicted Output: sad\n"
     ]
    },
    {
     "data": {
      "image/png": "[encoded data removed]",
      "text/plain": [
       "<Figure size 432x288 with 1 Axes>"
      ]
     },
     "metadata": {
      "needs_background": "light"
     },
     "output_type": "display_data"
    }
   ],
   "source": [
    "## TEST 1\n",
    "\n",
    "image_index = random.randint(0, len(test))\n",
    "print(\"Original Output:\", test['label'][image_index])\n",
    "pred = model.predict(x_test[image_index].reshape(1, 48, 48, 1))\n",
    "prediction_label = le.inverse_transform([pred.argmax()])[0]\n",
    "print(\"Predicted Output:\", prediction_label)\n",
    "plt.imshow(x_test[image_index].reshape(48, 48), cmap='gray');"
   ]
  },
  {
   "cell_type": "code",
   "execution_count": 29,
   "id": "7e593a85",
   "metadata": {
    "execution": {
     "iopub.execute_input": "2023-01-29T20:41:22.712050Z",
     "iopub.status.busy": "2023-01-29T20:41:22.711686Z",
     "iopub.status.idle": "2023-01-29T20:41:22.935593Z",
     "shell.execute_reply": "2023-01-29T20:41:22.934951Z"
    },
    "papermill": {
     "duration": 0.867821,
     "end_time": "2023-01-29T20:41:22.937479",
     "exception": false,
     "start_time": "2023-01-29T20:41:22.069658",
     "status": "completed"
    },
    "tags": []
   },
   "outputs": [
    {
     "name": "stdout",
     "output_type": "stream",
     "text": [
      "Original Output: fear\n",
      "Predicted Output: fear\n"
     ]
    },
    {
     "data": {
      "image/png": "[encoded data removed]",
      "text/plain": [
       "<Figure size 432x288 with 1 Axes>"
      ]
     },
     "metadata": {
      "needs_background": "light"
     },
     "output_type": "display_data"
    }
   ],
   "source": [
    "## TEST 2\n",
    "\n",
    "image_index = random.randint(0, len(test))\n",
    "print(\"Original Output:\", test['label'][image_index])\n",
    "pred = model.predict(x_test[image_index].reshape(1, 48, 48, 1))\n",
    "prediction_label = le.inverse_transform([pred.argmax()])[0]\n",
    "print(\"Predicted Output:\", prediction_label)\n",
    "plt.imshow(x_test[image_index].reshape(48, 48), cmap='gray');"
   ]
  },
  {
   "cell_type": "code",
   "execution_count": 30,
   "id": "a1a1af8c",
   "metadata": {
    "execution": {
     "iopub.execute_input": "2023-01-29T20:41:24.190722Z",
     "iopub.status.busy": "2023-01-29T20:41:24.188678Z",
     "iopub.status.idle": "2023-01-29T20:41:24.392948Z",
     "shell.execute_reply": "2023-01-29T20:41:24.392030Z"
    },
    "papermill": {
     "duration": 0.864085,
     "end_time": "2023-01-29T20:41:24.395217",
     "exception": false,
     "start_time": "2023-01-29T20:41:23.531132",
     "status": "completed"
    },
    "tags": []
   },
   "outputs": [
    {
     "name": "stdout",
     "output_type": "stream",
     "text": [
      "Original Output: happy\n",
      "Predicted Output: neutral\n"
     ]
    },
    {
     "data": {
      "image/png": "[encoded data removed]",
      "text/plain": [
       "<Figure size 432x288 with 1 Axes>"
      ]
     },
     "metadata": {
      "needs_background": "light"
     },
     "output_type": "display_data"
    }
   ],
   "source": [
    "## TEST 3\n",
    "\n",
    "image_index = random.randint(0, len(test))\n",
    "print(\"Original Output:\", test['label'][image_index])\n",
    "pred = model.predict(x_test[image_index].reshape(1, 48, 48, 1))\n",
    "prediction_label = le.inverse_transform([pred.argmax()])[0]\n",
    "print(\"Predicted Output:\", prediction_label)\n",
    "plt.imshow(x_test[image_index].reshape(48, 48), cmap='gray');"
   ]
  },
  {
   "cell_type": "code",
   "execution_count": null,
   "id": "71092aec",
   "metadata": {
    "papermill": {
     "duration": 0.653567,
     "end_time": "2023-01-29T20:41:25.627133",
     "exception": false,
     "start_time": "2023-01-29T20:41:24.973566",
     "status": "completed"
    },
    "tags": []
   },
   "outputs": [],
   "source": []
  }
 ],
 "metadata": {
  "kernelspec": {
   "display_name": "Python 3",
   "language": "python",
   "name": "python3"
  },
  "language_info": {
   "codemirror_mode": {
    "name": "ipython",
    "version": 3
   },
   "file_extension": ".py",
   "mimetype": "text/x-python",
   "name": "python",
   "nbconvert_exporter": "python",
   "pygments_lexer": "ipython3",
   "version": "3.7.12"
  },
  "papermill": {
   "default_parameters": {},
   "duration": 1103.774102,
   "end_time": "2023-01-29T20:41:29.377103",
   "environment_variables": {},
   "exception": null,
   "input_path": "__notebook__.ipynb",
   "output_path": "__notebook__.ipynb",
   "parameters": {},
   "start_time": "2023-01-29T20:23:05.603001",
   "version": "2.3.4"
  },
  "widgets": {
   "application/vnd.jupyter.widget-state+json": {
    "state": {
     "399ec89400654fa9ab6630d8f6b4e278": {
      "model_module": "@jupyter-widgets/controls",
      "model_module_version": "1.5.0",
      "model_name": "DescriptionStyleModel",
      "state": {
       "_model_module": "@jupyter-widgets/controls",
       "_model_module_version": "1.5.0",
       "_model_name": "DescriptionStyleModel",
       "_view_count": null,
       "_view_module": "@jupyter-widgets/base",
       "_view_module_version": "1.2.0",
       "_view_name": "StyleView",
       "description_width": ""
      }
     },
     "4a42e988b99449ec8b86159703353eac": {
      "model_module": "@jupyter-widgets/controls",
      "model_module_version": "1.5.0",
      "model_name": "FloatProgressModel",
      "state": {
       "_dom_classes": [],
       "_model_module": "@jupyter-widgets/controls",
       "_model_module_version": "1.5.0",
       "_model_name": "FloatProgressModel",
       "_view_count": null,
       "_view_module": "@jupyter-widgets/controls",
       "_view_module_version": "1.5.0",
       "_view_name": "ProgressView",
       "bar_style": "success",
       "description": "",
       "description_tooltip": null,
       "layout": "IPY_MODEL_568bf46088e94cf0aa44145c870c9438",
       "max": 7178.0,
       "min": 0.0,
       "orientation": "horizontal",
       "style": "IPY_MODEL_d347edc627534bceb23c4ad742627816",
       "value": 7178.0
      }
     },
     "4c8e930e15d243d8977c4e55d758d485": {
      "model_module": "@jupyter-widgets/controls",
      "model_module_version": "1.5.0",
      "model_name": "DescriptionStyleModel",
      "state": {
       "_model_module": "@jupyter-widgets/controls",
       "_model_module_version": "1.5.0",
       "_model_name": "DescriptionStyleModel",
       "_view_count": null,
       "_view_module": "@jupyter-widgets/base",
       "_view_module_version": "1.2.0",
       "_view_name": "StyleView",
       "description_width": ""
      }
     },
     "539d44f7a7ab4d6c8be78bba8ebaa3f2": {
      "model_module": "@jupyter-widgets/base",
      "model_module_version": "1.2.0",
      "model_name": "LayoutModel",
      "state": {
       "_model_module": "@jupyter-widgets/base",
       "_model_module_version": "1.2.0",
       "_model_name": "LayoutModel",
       "_view_count": null,
       "_view_module": "@jupyter-widgets/base",
       "_view_module_version": "1.2.0",
       "_view_name": "LayoutView",
       "align_content": null,
       "align_items": null,
       "align_self": null,
       "border": null,
       "bottom": null,
       "display": null,
       "flex": null,
       "flex_flow": null,
       "grid_area": null,
       "grid_auto_columns": null,
       "grid_auto_flow": null,
       "grid_auto_rows": null,
       "grid_column": null,
       "grid_gap": null,
       "grid_row": null,
       "grid_template_areas": null,
       "grid_template_columns": null,
       "grid_template_rows": null,
       "height": null,
       "justify_content": null,
       "justify_items": null,
       "left": null,
       "margin": null,
       "max_height": null,
       "max_width": null,
       "min_height": null,
       "min_width": null,
       "object_fit": null,
       "object_position": null,
       "order": null,
       "overflow": null,
       "overflow_x": null,
       "overflow_y": null,
       "padding": null,
       "right": null,
       "top": null,
       "visibility": null,
       "width": null
      }
     },
     "56392aa53a3e4d35b6a811fd033ee91e": {
      "model_module": "@jupyter-widgets/controls",
      "model_module_version": "1.5.0",
      "model_name": "DescriptionStyleModel",
      "state": {
       "_model_module": "@jupyter-widgets/controls",
       "_model_module_version": "1.5.0",
       "_model_name": "DescriptionStyleModel",
       "_view_count": null,
       "_view_module": "@jupyter-widgets/base",
       "_view_module_version": "1.2.0",
       "_view_name": "StyleView",
       "description_width": ""
      }
     },
     "568bf46088e94cf0aa44145c870c9438": {
      "model_module": "@jupyter-widgets/base",
      "model_module_version": "1.2.0",
      "model_name": "LayoutModel",
      "state": {
       "_model_module": "@jupyter-widgets/base",
       "_model_module_version": "1.2.0",
       "_model_name": "LayoutModel",
       "_view_count": null,
       "_view_module": "@jupyter-widgets/base",
       "_view_module_version": "1.2.0",
       "_view_name": "LayoutView",
       "align_content": null,
       "align_items": null,
       "align_self": null,
       "border": null,
       "bottom": null,
       "display": null,
       "flex": null,
       "flex_flow": null,
       "grid_area": null,
       "grid_auto_columns": null,
       "grid_auto_flow": null,
       "grid_auto_rows": null,
       "grid_column": null,
       "grid_gap": null,
       "grid_row": null,
       "grid_template_areas": null,
       "grid_template_columns": null,
       "grid_template_rows": null,
       "height": null,
       "justify_content": null,
       "justify_items": null,
       "left": null,
       "margin": null,
       "max_height": null,
       "max_width": null,
       "min_height": null,
       "min_width": null,
       "object_fit": null,
       "object_position": null,
       "order": null,
       "overflow": null,
       "overflow_x": null,
       "overflow_y": null,
       "padding": null,
       "right": null,
       "top": null,
       "visibility": null,
       "width": null
      }
     },
     "5c211c2b7fb6421bb4fed6ad1c766c88": {
      "model_module": "@jupyter-widgets/controls",
      "model_module_version": "1.5.0",
      "model_name": "HTMLModel",
      "state": {
       "_dom_classes": [],
       "_model_module": "@jupyter-widgets/controls",
       "_model_module_version": "1.5.0",
       "_model_name": "HTMLModel",
       "_view_count": null,
       "_view_module": "@jupyter-widgets/controls",
       "_view_module_version": "1.5.0",
       "_view_name": "HTMLView",
       "description": "",
       "description_tooltip": null,
       "layout": "IPY_MODEL_8c197f83442f462dade2fdee96d8577f",
       "placeholder": "​",
       "style": "IPY_MODEL_cb9c6222c65748bfbb251907504986af",
       "value": "100%"
      }
     },
     "65efaf7b755f48a1afab1e31c93c312d": {
      "model_module": "@jupyter-widgets/base",
      "model_module_version": "1.2.0",
      "model_name": "LayoutModel",
      "state": {
       "_model_module": "@jupyter-widgets/base",
       "_model_module_version": "1.2.0",
       "_model_name": "LayoutModel",
       "_view_count": null,
       "_view_module": "@jupyter-widgets/base",
       "_view_module_version": "1.2.0",
       "_view_name": "LayoutView",
       "align_content": null,
       "align_items": null,
       "align_self": null,
       "border": null,
       "bottom": null,
       "display": null,
       "flex": null,
       "flex_flow": null,
       "grid_area": null,
       "grid_auto_columns": null,
       "grid_auto_flow": null,
       "grid_auto_rows": null,
       "grid_column": null,
       "grid_gap": null,
       "grid_row": null,
       "grid_template_areas": null,
       "grid_template_columns": null,
       "grid_template_rows": null,
       "height": null,
       "justify_content": null,
       "justify_items": null,
       "left": null,
       "margin": null,
       "max_height": null,
       "max_width": null,
       "min_height": null,
       "min_width": null,
       "object_fit": null,
       "object_position": null,
       "order": null,
       "overflow": null,
       "overflow_x": null,
       "overflow_y": null,
       "padding": null,
       "right": null,
       "top": null,
       "visibility": null,
       "width": null
      }
     },
     "6bcf23e965474d7bb22ba59e25ff6fa3": {
      "model_module": "@jupyter-widgets/controls",
      "model_module_version": "1.5.0",
      "model_name": "HBoxModel",
      "state": {
       "_dom_classes": [],
       "_model_module": "@jupyter-widgets/controls",
       "_model_module_version": "1.5.0",
       "_model_name": "HBoxModel",
       "_view_count": null,
       "_view_module": "@jupyter-widgets/controls",
       "_view_module_version": "1.5.0",
       "_view_name": "HBoxView",
       "box_style": "",
       "children": [
        "IPY_MODEL_5c211c2b7fb6421bb4fed6ad1c766c88",
        "IPY_MODEL_4a42e988b99449ec8b86159703353eac",
        "IPY_MODEL_ecaf16033135425fbfe7dc787399f47c"
       ],
       "layout": "IPY_MODEL_539d44f7a7ab4d6c8be78bba8ebaa3f2"
      }
     },
     "71aa7093d2724d44a4f885488af354b8": {
      "model_module": "@jupyter-widgets/base",
      "model_module_version": "1.2.0",
      "model_name": "LayoutModel",
      "state": {
       "_model_module": "@jupyter-widgets/base",
       "_model_module_version": "1.2.0",
       "_model_name": "LayoutModel",
       "_view_count": null,
       "_view_module": "@jupyter-widgets/base",
       "_view_module_version": "1.2.0",
       "_view_name": "LayoutView",
       "align_content": null,
       "align_items": null,
       "align_self": null,
       "border": null,
       "bottom": null,
       "display": null,
       "flex": null,
       "flex_flow": null,
       "grid_area": null,
       "grid_auto_columns": null,
       "grid_auto_flow": null,
       "grid_auto_rows": null,
       "grid_column": null,
       "grid_gap": null,
       "grid_row": null,
       "grid_template_areas": null,
       "grid_template_columns": null,
       "grid_template_rows": null,
       "height": null,
       "justify_content": null,
       "justify_items": null,
       "left": null,
       "margin": null,
       "max_height": null,
       "max_width": null,
       "min_height": null,
       "min_width": null,
       "object_fit": null,
       "object_position": null,
       "order": null,
       "overflow": null,
       "overflow_x": null,
       "overflow_y": null,
       "padding": null,
       "right": null,
       "top": null,
       "visibility": null,
       "width": null
      }
     },
     "7cb32a63923b4bd6a3618a5fcc412c2d": {
      "model_module": "@jupyter-widgets/controls",
      "model_module_version": "1.5.0",
      "model_name": "ProgressStyleModel",
      "state": {
       "_model_module": "@jupyter-widgets/controls",
       "_model_module_version": "1.5.0",
       "_model_name": "ProgressStyleModel",
       "_view_count": null,
       "_view_module": "@jupyter-widgets/base",
       "_view_module_version": "1.2.0",
       "_view_name": "StyleView",
       "bar_color": null,
       "description_width": ""
      }
     },
     "8c197f83442f462dade2fdee96d8577f": {
      "model_module": "@jupyter-widgets/base",
      "model_module_version": "1.2.0",
      "model_name": "LayoutModel",
      "state": {
       "_model_module": "@jupyter-widgets/base",
       "_model_module_version": "1.2.0",
       "_model_name": "LayoutModel",
       "_view_count": null,
       "_view_module": "@jupyter-widgets/base",
       "_view_module_version": "1.2.0",
       "_view_name": "LayoutView",
       "align_content": null,
       "align_items": null,
       "align_self": null,
       "border": null,
       "bottom": null,
       "display": null,
       "flex": null,
       "flex_flow": null,
       "grid_area": null,
       "grid_auto_columns": null,
       "grid_auto_flow": null,
       "grid_auto_rows": null,
       "grid_column": null,
       "grid_gap": null,
       "grid_row": null,
       "grid_template_areas": null,
       "grid_template_columns": null,
       "grid_template_rows": null,
       "height": null,
       "justify_content": null,
       "justify_items": null,
       "left": null,
       "margin": null,
       "max_height": null,
       "max_width": null,
       "min_height": null,
       "min_width": null,
       "object_fit": null,
       "object_position": null,
       "order": null,
       "overflow": null,
       "overflow_x": null,
       "overflow_y": null,
       "padding": null,
       "right": null,
       "top": null,
       "visibility": null,
       "width": null
      }
     },
     "8ef150a0b6b546288f3dee77e6d7bd57": {
      "model_module": "@jupyter-widgets/controls",
      "model_module_version": "1.5.0",
      "model_name": "HTMLModel",
      "state": {
       "_dom_classes": [],
       "_model_module": "@jupyter-widgets/controls",
       "_model_module_version": "1.5.0",
       "_model_name": "HTMLModel",
       "_view_count": null,
       "_view_module": "@jupyter-widgets/controls",
       "_view_module_version": "1.5.0",
       "_view_name": "HTMLView",
       "description": "",
       "description_tooltip": null,
       "layout": "IPY_MODEL_d63a5ed8cbd546e9b9c38c1b36bab15d",
       "placeholder": "​",
       "style": "IPY_MODEL_4c8e930e15d243d8977c4e55d758d485",
       "value": "100%"
      }
     },
     "940c1f92809143c5be43cca0c475f0a9": {
      "model_module": "@jupyter-widgets/controls",
      "model_module_version": "1.5.0",
      "model_name": "HBoxModel",
      "state": {
       "_dom_classes": [],
       "_model_module": "@jupyter-widgets/controls",
       "_model_module_version": "1.5.0",
       "_model_name": "HBoxModel",
       "_view_count": null,
       "_view_module": "@jupyter-widgets/controls",
       "_view_module_version": "1.5.0",
       "_view_name": "HBoxView",
       "box_style": "",
       "children": [
        "IPY_MODEL_8ef150a0b6b546288f3dee77e6d7bd57",
        "IPY_MODEL_976e98912406444bb31d7b7c4120bebe",
        "IPY_MODEL_ca6064cb51224fdb8d738999fdf8739b"
       ],
       "layout": "IPY_MODEL_ba66614cfde34727b7dcb7b6dabaf9e3"
      }
     },
     "976e98912406444bb31d7b7c4120bebe": {
      "model_module": "@jupyter-widgets/controls",
      "model_module_version": "1.5.0",
      "model_name": "FloatProgressModel",
      "state": {
       "_dom_classes": [],
       "_model_module": "@jupyter-widgets/controls",
       "_model_module_version": "1.5.0",
       "_model_name": "FloatProgressModel",
       "_view_count": null,
       "_view_module": "@jupyter-widgets/controls",
       "_view_module_version": "1.5.0",
       "_view_name": "ProgressView",
       "bar_style": "success",
       "description": "",
       "description_tooltip": null,
       "layout": "IPY_MODEL_98172081119247978d490052f59ff729",
       "max": 28709.0,
       "min": 0.0,
       "orientation": "horizontal",
       "style": "IPY_MODEL_7cb32a63923b4bd6a3618a5fcc412c2d",
       "value": 28709.0
      }
     },
     "98172081119247978d490052f59ff729": {
      "model_module": "@jupyter-widgets/base",
      "model_module_version": "1.2.0",
      "model_name": "LayoutModel",
      "state": {
       "_model_module": "@jupyter-widgets/base",
       "_model_module_version": "1.2.0",
       "_model_name": "LayoutModel",
       "_view_count": null,
       "_view_module": "@jupyter-widgets/base",
       "_view_module_version": "1.2.0",
       "_view_name": "LayoutView",
       "align_content": null,
       "align_items": null,
       "align_self": null,
       "border": null,
       "bottom": null,
       "display": null,
       "flex": null,
       "flex_flow": null,
       "grid_area": null,
       "grid_auto_columns": null,
       "grid_auto_flow": null,
       "grid_auto_rows": null,
       "grid_column": null,
       "grid_gap": null,
       "grid_row": null,
       "grid_template_areas": null,
       "grid_template_columns": null,
       "grid_template_rows": null,
       "height": null,
       "justify_content": null,
       "justify_items": null,
       "left": null,
       "margin": null,
       "max_height": null,
       "max_width": null,
       "min_height": null,
       "min_width": null,
       "object_fit": null,
       "object_position": null,
       "order": null,
       "overflow": null,
       "overflow_x": null,
       "overflow_y": null,
       "padding": null,
       "right": null,
       "top": null,
       "visibility": null,
       "width": null
      }
     },
     "ba66614cfde34727b7dcb7b6dabaf9e3": {
      "model_module": "@jupyter-widgets/base",
      "model_module_version": "1.2.0",
      "model_name": "LayoutModel",
      "state": {
       "_model_module": "@jupyter-widgets/base",
       "_model_module_version": "1.2.0",
       "_model_name": "LayoutModel",
       "_view_count": null,
       "_view_module": "@jupyter-widgets/base",
       "_view_module_version": "1.2.0",
       "_view_name": "LayoutView",
       "align_content": null,
       "align_items": null,
       "align_self": null,
       "border": null,
       "bottom": null,
       "display": null,
       "flex": null,
       "flex_flow": null,
       "grid_area": null,
       "grid_auto_columns": null,
       "grid_auto_flow": null,
       "grid_auto_rows": null,
       "grid_column": null,
       "grid_gap": null,
       "grid_row": null,
       "grid_template_areas": null,
       "grid_template_columns": null,
       "grid_template_rows": null,
       "height": null,
       "justify_content": null,
       "justify_items": null,
       "left": null,
       "margin": null,
       "max_height": null,
       "max_width": null,
       "min_height": null,
       "min_width": null,
       "object_fit": null,
       "object_position": null,
       "order": null,
       "overflow": null,
       "overflow_x": null,
       "overflow_y": null,
       "padding": null,
       "right": null,
       "top": null,
       "visibility": null,
       "width": null
      }
     },
     "ca6064cb51224fdb8d738999fdf8739b": {
      "model_module": "@jupyter-widgets/controls",
      "model_module_version": "1.5.0",
      "model_name": "HTMLModel",
      "state": {
       "_dom_classes": [],
       "_model_module": "@jupyter-widgets/controls",
       "_model_module_version": "1.5.0",
       "_model_name": "HTMLModel",
       "_view_count": null,
       "_view_module": "@jupyter-widgets/controls",
       "_view_module_version": "1.5.0",
       "_view_name": "HTMLView",
       "description": "",
       "description_tooltip": null,
       "layout": "IPY_MODEL_71aa7093d2724d44a4f885488af354b8",
       "placeholder": "​",
       "style": "IPY_MODEL_56392aa53a3e4d35b6a811fd033ee91e",
       "value": " 28709/28709 [05:11&lt;00:00, 94.11it/s]"
      }
     },
     "cb9c6222c65748bfbb251907504986af": {
      "model_module": "@jupyter-widgets/controls",
      "model_module_version": "1.5.0",
      "model_name": "DescriptionStyleModel",
      "state": {
       "_model_module": "@jupyter-widgets/controls",
       "_model_module_version": "1.5.0",
       "_model_name": "DescriptionStyleModel",
       "_view_count": null,
       "_view_module": "@jupyter-widgets/base",
       "_view_module_version": "1.2.0",
       "_view_name": "StyleView",
       "description_width": ""
      }
     },
     "d347edc627534bceb23c4ad742627816": {
      "model_module": "@jupyter-widgets/controls",
      "model_module_version": "1.5.0",
      "model_name": "ProgressStyleModel",
      "state": {
       "_model_module": "@jupyter-widgets/controls",
       "_model_module_version": "1.5.0",
       "_model_name": "ProgressStyleModel",
       "_view_count": null,
       "_view_module": "@jupyter-widgets/base",
       "_view_module_version": "1.2.0",
       "_view_name": "StyleView",
       "bar_color": null,
       "description_width": ""
      }
     },
     "d63a5ed8cbd546e9b9c38c1b36bab15d": {
      "model_module": "@jupyter-widgets/base",
      "model_module_version": "1.2.0",
      "model_name": "LayoutModel",
      "state": {
       "_model_module": "@jupyter-widgets/base",
       "_model_module_version": "1.2.0",
       "_model_name": "LayoutModel",
       "_view_count": null,
       "_view_module": "@jupyter-widgets/base",
       "_view_module_version": "1.2.0",
       "_view_name": "LayoutView",
       "align_content": null,
       "align_items": null,
       "align_self": null,
       "border": null,
       "bottom": null,
       "display": null,
       "flex": null,
       "flex_flow": null,
       "grid_area": null,
       "grid_auto_columns": null,
       "grid_auto_flow": null,
       "grid_auto_rows": null,
       "grid_column": null,
       "grid_gap": null,
       "grid_row": null,
       "grid_template_areas": null,
       "grid_template_columns": null,
       "grid_template_rows": null,
       "height": null,
       "justify_content": null,
       "justify_items": null,
       "left": null,
       "margin": null,
       "max_height": null,
       "max_width": null,
       "min_height": null,
       "min_width": null,
       "object_fit": null,
       "object_position": null,
       "order": null,
       "overflow": null,
       "overflow_x": null,
       "overflow_y": null,
       "padding": null,
       "right": null,
       "top": null,
       "visibility": null,
       "width": null
      }
     },
     "ecaf16033135425fbfe7dc787399f47c": {
      "model_module": "@jupyter-widgets/controls",
      "model_module_version": "1.5.0",
      "model_name": "HTMLModel",
      "state": {
       "_dom_classes": [],
       "_model_module": "@jupyter-widgets/controls",
       "_model_module_version": "1.5.0",
       "_model_name": "HTMLModel",
       "_view_count": null,
       "_view_module": "@jupyter-widgets/controls",
       "_view_module_version": "1.5.0",
       "_view_name": "HTMLView",
       "description": "",
       "description_tooltip": null,
       "layout": "IPY_MODEL_65efaf7b755f48a1afab1e31c93c312d",
       "placeholder": "​",
       "style": "IPY_MODEL_399ec89400654fa9ab6630d8f6b4e278",
       "value": " 7178/7178 [01:06&lt;00:00, 92.25it/s]"
      }
     }
    },
    "version_major": 2,
    "version_minor": 0
   }
  }
 },
 "nbformat": 4,
 "nbformat_minor": 5
}
